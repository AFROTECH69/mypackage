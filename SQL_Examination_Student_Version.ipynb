{
  "cells": [
    {
      "cell_type": "markdown",
      "metadata": {
        "id": "view-in-github",
        "colab_type": "text"
      },
      "source": [
        "<a href=\"https://colab.research.google.com/github/AFROTECH69/mypackage/blob/master/SQL_Examination_Student_Version.ipynb\" target=\"_parent\"><img src=\"https://colab.research.google.com/assets/colab-badge.svg\" alt=\"Open In Colab\"/></a>"
      ]
    },
    {
      "cell_type": "markdown",
      "metadata": {
        "id": "cBsBb3mO1pyC"
      },
      "source": [
        "# SQL Exam\n",
        "© Explore Data Science Academy"
      ]
    },
    {
      "cell_type": "markdown",
      "metadata": {
        "id": "FdC9DqW71pyD"
      },
      "source": [
        "## Instructions to Students\n",
        "\n",
        "This challenge is designed to determine how much you have learned so far and will test your knowledge on SQL.\n",
        "\n",
        "The answers for this challenge should be selected on Athena for each corresponding Multiple Choice Question. The questions are included in this notebook and are numbered according to the Athena questions. The options for each question have also been included.\n",
        "\n",
        "Do not add or remove cells in this notebook. Do not edit or remove the `%%sql` comment as it is required to run each cell.\n",
        "\n",
        "**_Good Luck!_**"
      ]
    },
    {
      "cell_type": "markdown",
      "metadata": {
        "id": "JCYuOfc81pyD"
      },
      "source": [
        "## Honour Code\n",
        "\n",
        "I YOUR NAME, YOUR SURNAME, confirm - by submitting this document - that the solutions in this notebook are a result of my own work and that I abide by the EDSA honour code (https://drive.google.com/file/d/1QDCjGZJ8-FmJE3bZdIQNwnJyQKPhHZBn/view?usp=sharing).\n",
        "\n",
        "Non-compliance with the honour code constitutes a material breach of contract."
      ]
    },
    {
      "cell_type": "markdown",
      "metadata": {
        "id": "LUnf5dWw1pyD"
      },
      "source": [
        "## The TMDb Database\n",
        "\n",
        "In this supplementary exam, you will be exploring the [The Movie Database](https://www.themoviedb.org/) - an online movie and TV show database, which houses some of the most popular movies and TV shows at your finger tips. The TMDb database supports 39 official languages used in over 180 countries daily, and dates all the way back to 2008. \n",
        "\n",
        "\n",
        "<img src=\"https://github.com/Explore-AI/Pictures/blob/master/sql_tmdb.jpg?raw=true\" width=80%/>\n",
        "\n",
        "\n",
        "Below is an Entity Relationship diagram(ERD) of the TMDb database:\n",
        "\n",
        "<img src=\"https://github.com/Explore-AI/Pictures/blob/master/TMDB_ER_diagram.png?raw=true\" width=70%/>\n",
        "\n",
        "As can be seen from the ER diagram, the TMDb database consists of `12 tables` containing information about movies, cast, genre and so much more.  \n",
        "\n",
        "Let's get started!"
      ]
    },
    {
      "cell_type": "markdown",
      "metadata": {
        "id": "YtxNE3iD1pyD"
      },
      "source": [
        "## Loading the database\n",
        "\n",
        "Before you begin, you need to prepare your SQL environment.  You can do this by loading in the magic command `%load_ext sql`.\n",
        "\n",
        "---\n",
        "*Note: Remember that you can run the following commands to install the SQL extension dependency locally:* \n",
        "     \n",
        " - `pip install sqlalchemy`\n",
        " - `pip install ipython-sql`\n",
        " - `pip install pymysql`\n",
        "\n",
        "Or, for running on **Google Colab**\n",
        "  - `pip install pymysql`\n",
        "---"
      ]
    },
    {
      "cell_type": "code",
      "execution_count": null,
      "metadata": {
        "id": "LsCAy8Bq1pyD"
      },
      "outputs": [],
      "source": [
        "%load_ext sql"
      ]
    },
    {
      "cell_type": "code",
      "source": [
        "pip install pymysql"
      ],
      "metadata": {
        "id": "oxiUrNNQs833",
        "outputId": "b4c7d7d6-ddc8-4354-c3c9-e6869e36bb92",
        "colab": {
          "base_uri": "https://localhost:8080/"
        }
      },
      "execution_count": 1,
      "outputs": [
        {
          "output_type": "stream",
          "name": "stdout",
          "text": [
            "Looking in indexes: https://pypi.org/simple, https://us-python.pkg.dev/colab-wheels/public/simple/\n",
            "Collecting pymysql\n",
            "  Downloading PyMySQL-1.0.3-py3-none-any.whl (43 kB)\n",
            "\u001b[2K     \u001b[90m━━━━━━━━━━━━━━━━━━━━━━━━━━━━━━━━━━━━━━━━\u001b[0m \u001b[32m43.7/43.7 KB\u001b[0m \u001b[31m2.2 MB/s\u001b[0m eta \u001b[36m0:00:00\u001b[0m\n",
            "\u001b[?25hInstalling collected packages: pymysql\n",
            "Successfully installed pymysql-1.0.3\n"
          ]
        }
      ]
    },
    {
      "cell_type": "markdown",
      "metadata": {
        "id": "wMG2ISG7cAxx"
      },
      "source": [
        "Next, go ahead and load in your database. To do this you will need to ensure you have downloaded the `TMDB.db` sqlite file from Athena and have stored it in a known location."
      ]
    },
    {
      "cell_type": "code",
      "execution_count": null,
      "metadata": {
        "id": "OttLMbXU1pyD"
      },
      "outputs": [],
      "source": [
        "%%sql \n",
        "\n",
        "sqlite:///TMDB.db"
      ]
    },
    {
      "cell_type": "markdown",
      "metadata": {
        "id": "Pa90Kw7zcAxy"
      },
      "source": [
        "If the above line didn't throw any errors, then you should be good to go! Good luck for the Exam! "
      ]
    },
    {
      "cell_type": "markdown",
      "metadata": {
        "id": "IvLmOAwH1pyD"
      },
      "source": [
        "## Questions on SQL\n",
        "\n",
        "Use the given cell below each question to execute your SQL queries to find the correct input from the options provided. Your solution should match one of the multiple choice questions on Athena."
      ]
    },
    {
      "cell_type": "markdown",
      "metadata": {
        "id": "e5z0q6wL1pyD"
      },
      "source": [
        "**Question 1**\n",
        "\n",
        "Who won the Oscar for “Actor in a Leading Role” in  2015 ?\n",
        "\n",
        "(Hint winner is indicated as '1.0')\n",
        "\n",
        "**Options:** \n",
        "\n",
        "  - Micheal Fassbender\n",
        "  - Natalie Portman\n",
        "  - Leonardo DiCaprio\n",
        "  - Eddie Redmayne\n"
      ]
    },
    {
      "cell_type": "code",
      "execution_count": null,
      "metadata": {
        "id": "aXK93xeXxDu_"
      },
      "outputs": [],
      "source": [
        "%%sql \n"
      ]
    },
    {
      "cell_type": "markdown",
      "metadata": {
        "id": "gfJcknj11pyD"
      },
      "source": [
        "**Question 2**\n",
        "\n",
        "What query will produce the ten oldest movies in the database?\n",
        "\n",
        "**Options:**\n",
        "\n",
        " - SELECT TOP(10) * FROM movies WHERE release_date ORDER BY release_date ASC\n",
        "\n",
        " - SELECT  * FROM movies WHERE release_date IS NOT NULL ORDER BY release_date ASC LIMIT 10\n",
        "\n",
        " - SELECT * FROM movies WHERE release_date IS NOT NULL ORDER BY release_date DESC LIMIT 10\n",
        "\n",
        " -  SELECT * FROM movies WHERE release_date IS NULL ORDER BY release_date DESC LIMIT 10"
      ]
    },
    {
      "cell_type": "code",
      "execution_count": null,
      "metadata": {
        "id": "1Ze6apYbxJrh"
      },
      "outputs": [],
      "source": [
        "%%sql \n"
      ]
    },
    {
      "cell_type": "markdown",
      "metadata": {
        "id": "wwGJU4iU1pyD"
      },
      "source": [
        "**Question 3**\n",
        "\n",
        "How many unique awards are there in the Oscars table?\n",
        "\n",
        "**Options:**\n",
        " - 141\n",
        " - 53 \n",
        " - 80\n",
        " - 114"
      ]
    },
    {
      "cell_type": "code",
      "execution_count": null,
      "metadata": {
        "id": "i1apaPSu1pyD"
      },
      "outputs": [],
      "source": [
        "%%sql \n"
      ]
    },
    {
      "cell_type": "markdown",
      "metadata": {
        "id": "uJp6pHmH1pyD"
      },
      "source": [
        "**Question 4**\n",
        "\n",
        "How many movies are there that contain the word “Spider” within their title?\n",
        "\n",
        "**Options:**\n",
        " - 0\n",
        " - 5\n",
        " - 1\n",
        " - 9"
      ]
    },
    {
      "cell_type": "code",
      "execution_count": null,
      "metadata": {
        "id": "ZT8NPzQL1pyD"
      },
      "outputs": [],
      "source": [
        "%%sql \n"
      ]
    },
    {
      "cell_type": "markdown",
      "metadata": {
        "id": "0-JmxrTm1pyD"
      },
      "source": [
        "**Question 5**\n",
        "\n",
        "How many movies are there that are both in the \"Thriller\" Genre and contains the word “love” anywhere in the keywords?\n",
        "\n",
        "\n",
        "**Options:**\n",
        " - 48\n",
        " - 38\n",
        " - 14\n",
        " - 1"
      ]
    },
    {
      "cell_type": "code",
      "execution_count": null,
      "metadata": {
        "id": "fQIDWG1I1pyD"
      },
      "outputs": [],
      "source": [
        "%%sql \n"
      ]
    },
    {
      "cell_type": "markdown",
      "metadata": {
        "id": "KryrsSwa1pyD"
      },
      "source": [
        "**Question 6**\n",
        "\n",
        "How many movies are there that were released between 1 August 2006 ('2006-08-01') and 1 October 2009 ('2009-10-01'), that have a popularity score of more than 40, and a budget of less 50 000 000?\n",
        "\n",
        " \n",
        "**Options:**\n",
        "\n",
        " - 29\n",
        " - 23\n",
        " - 28\n",
        " - 35"
      ]
    },
    {
      "cell_type": "code",
      "execution_count": null,
      "metadata": {
        "id": "IqA1sZXf1pyD"
      },
      "outputs": [],
      "source": [
        "%%sql "
      ]
    },
    {
      "cell_type": "markdown",
      "metadata": {
        "id": "XY2usm1w1pyD"
      },
      "source": [
        "**Question 7** \n",
        "\n",
        "How many unique characters has \"Vin Diesel\" played so far in the database?\n",
        "\n",
        "**Options:**\n",
        " - 24\n",
        " - 19\n",
        " - 18\n",
        " - 16"
      ]
    },
    {
      "cell_type": "code",
      "execution_count": null,
      "metadata": {
        "id": "HfvLs8Ry1pyD"
      },
      "outputs": [],
      "source": [
        "%%sql \n"
      ]
    },
    {
      "cell_type": "markdown",
      "metadata": {
        "id": "OW1vBFbt1pyD"
      },
      "source": [
        "**Question 8**\n",
        "\n",
        "What are the Genres of the movie “The Royal Tenenbaums”?\n",
        "\n",
        "\n",
        "**Options:**\n",
        " - Action, Romance\n",
        " - Drama, Comedy\n",
        " - Crime, Thriller\n",
        " - Drama, Romance"
      ]
    },
    {
      "cell_type": "code",
      "execution_count": null,
      "metadata": {
        "id": "epiFsHGYxqD_"
      },
      "outputs": [],
      "source": [
        "%%sql \n"
      ]
    },
    {
      "cell_type": "markdown",
      "metadata": {
        "id": "q89QY7GG1pyD"
      },
      "source": [
        "**Question 9**\n",
        "\n",
        "What are the three production companies that have the highest movie popularity score on average, as recorded within the database?\n",
        "\n",
        "\n",
        "**Options:**\n",
        "\n",
        " - MCL Films S.A., Turner Pictures, George Stevens Productions\n",
        " - The Donners' Company, Bulletproof Cupid and Kinberg Genre\n",
        " - Bulletproof Cupid, The Donners' Company, MCL Films S.A\n",
        " - B.Sting Entertainment, Illumination Pictures, Aztec Musique"
      ]
    },
    {
      "cell_type": "code",
      "execution_count": null,
      "metadata": {
        "id": "hMjI_ip81pyD"
      },
      "outputs": [],
      "source": [
        "%%sql \n"
      ]
    },
    {
      "cell_type": "markdown",
      "metadata": {
        "id": "-4vg-IY4Qd_6"
      },
      "source": [
        "**Question 10**\n",
        "\n",
        "How many female actors (i.e. gender = 1) have a name that starts with the letter \"N\"?\n",
        "\n",
        "\n",
        "**Options:**\n",
        "\n",
        " - 0\n",
        " - 355\n",
        " - 7335\n",
        " - 1949"
      ]
    },
    {
      "cell_type": "code",
      "execution_count": null,
      "metadata": {
        "id": "Ycekhv15Q3im"
      },
      "outputs": [],
      "source": [
        "%%sql"
      ]
    },
    {
      "cell_type": "markdown",
      "metadata": {
        "id": "5L5jXzFRRAan"
      },
      "source": [
        "**Question 11**\n",
        "\n",
        "Which genre has, on average, the lowest movie popularity score? \n",
        "\n",
        "\n",
        "**Options:**\n",
        "\n",
        " - Science Fiction\n",
        " - Animation\n",
        " - Documentary\n",
        " - Foreign"
      ]
    },
    {
      "cell_type": "code",
      "execution_count": null,
      "metadata": {
        "id": "I-LEhrFWRPxD"
      },
      "outputs": [],
      "source": [
        "%%sql"
      ]
    },
    {
      "cell_type": "markdown",
      "metadata": {
        "id": "KlYSIYEvRdeZ"
      },
      "source": [
        "**Question 12**\n",
        "\n",
        "Which award category has the highest number of actor nominations (actors can be male or female)? (Hint `Oscars.name` contains both actors names and film names)\n",
        "\n",
        "**Options:**\n",
        "\n",
        "- Special Achievement Award\n",
        "- Actor in a Supporting Role\n",
        "- Actress in a Supporting Role\n",
        "- Best Picture\n",
        "\n"
      ]
    },
    {
      "cell_type": "code",
      "execution_count": null,
      "metadata": {
        "id": "6L-CQMbNR7mT"
      },
      "outputs": [],
      "source": [
        "%%sql"
      ]
    },
    {
      "cell_type": "markdown",
      "metadata": {
        "id": "1s05NRa3SAcl"
      },
      "source": [
        "**Question 13**\n",
        "\n",
        "For all of the entries in the Oscars table before 1934, the year is stored differently than in all the subsequent years. E.g the year would be saved as “1932/1933” instead of just “1933” (the second indicated year).  Which of the following options would be the appropriate code to update this column to have the format of the year be consistent throughout the entire table (second indicated year only shown)?\n",
        "\n",
        "\n",
        "**Options:**\n",
        "\n",
        "- `UPDATE Oscars SET year = RIGHT(year, -4)`\n",
        "- `UPDATE Oscars SET year = SELECT substr(year, -4)`\n",
        "- `UPDATE Oscars SET year = substr(year, -4)`\n",
        "- `UPDATE Oscars year =  substr(year, 4)`"
      ]
    },
    {
      "cell_type": "code",
      "execution_count": null,
      "metadata": {
        "id": "inbYYBadSwG-"
      },
      "outputs": [],
      "source": [
        "%%sql"
      ]
    },
    {
      "cell_type": "markdown",
      "metadata": {
        "id": "EzAFkKa5S_Dt"
      },
      "source": [
        "**Question 14**\n",
        "\n",
        "DStv will be having a special week dedicated to the actor Alan Rickman. Which of the following queries would create a new _view_ that shows the titles, release dates, taglines, and overviews of all movies that Alan Rickman has played in?\n",
        "\n",
        "\n",
        "\n",
        "**Options:**\n",
        "\n",
        "- SELECT title, release_date, tagline, overview \n",
        "FROM Movies LEFT JOIN Casts ON Casts.movie_id = Movies.movie_id Left JOIN Actors ON Casts.actor_id = Actors.actor_id \n",
        "WHERE Actors.actor_name = 'Alan Rickman'\n",
        "AS VIEW Alan_Rickman_Movies\n",
        "\n",
        "- CREATE VIEW Alan_Rickman_Movies AS  \n",
        "SELECT title, release_date, tagline, overview FROM Movies  \n",
        "LEFT JOIN Casts ON Casts.movie_id = Movies.movie_id Left JOIN Actors\n",
        "ON Casts.actor_id = Actors.actor_id\n",
        "WHERE Actors.actor_name = 'Alan Rickman' \n",
        "\n",
        "\n",
        "- CREATE NEW VIEW  Name  = Alan_Rickman_Movies AS SELECT title, release_date, tagline, overview FROM Movies LEFT JOIN Casts ON Casts.movie_id = Movies.movie_id Left JOIN Actors ON Casts.actor_id = Actors.actor_id WHERE Actors.actor_name = 'Alan Rickman'\n",
        "\n",
        "- VIEW Alan_Rickman_Movies AS SELECT title, release_date, tagline, overview FROM Movies LEFT JOIN Casts ON Casts.movie_id = Movies.movie_id Left JOIN Actors ON Casts.actor_id = Actors.actor_id WHERE Actors.actor_name = 'Alan Rickman'"
      ]
    },
    {
      "cell_type": "code",
      "execution_count": null,
      "metadata": {
        "id": "DPzO4PZyUEl_"
      },
      "outputs": [],
      "source": [
        "%%sql"
      ]
    },
    {
      "cell_type": "markdown",
      "metadata": {
        "id": "SZLd8cjGUdhE"
      },
      "source": [
        "**Question 15**\n",
        "\n",
        "Which of the statements about database normalisation is true?\n",
        "\n",
        "**Statements:**\n",
        " \n",
        "i) Database normalisation improves data redundancy, saves on storage space and fulfills the requirement of records to be uniquely identified.\n",
        "\n",
        "ii) Database normalisation supports up to 3rd normal form and removes all data anomalies.\n",
        "\n",
        "iii) Database normalisation removes inconsistencies which may cause the analysis of our data to be more complicated.\n",
        "\n",
        "iv) Database normalisation increases data redundancy, saves on storage space and fulfills the requirement of records to be uniquely identified.\n",
        "\n",
        "**Options:**\n",
        "\n",
        " - (i), (ii)\n",
        " - (i), (iii)\n",
        " - (ii), (iv)\n",
        " - (iii), (iv)"
      ]
    }
  ],
  "metadata": {
    "colab": {
      "provenance": [],
      "include_colab_link": true
    },
    "kernelspec": {
      "display_name": "Python 3",
      "language": "python",
      "name": "python3"
    },
    "language_info": {
      "codemirror_mode": {
        "name": "ipython",
        "version": 3
      },
      "file_extension": ".py",
      "mimetype": "text/x-python",
      "name": "python",
      "nbconvert_exporter": "python",
      "pygments_lexer": "ipython3",
      "version": "3.7.4"
    }
  },
  "nbformat": 4,
  "nbformat_minor": 0
}